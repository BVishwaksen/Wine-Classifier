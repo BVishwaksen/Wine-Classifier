{
 "cells": [
  {
   "cell_type": "code",
   "execution_count": 1,
   "metadata": {},
   "outputs": [],
   "source": [
    "#Loading the model\n",
    "import pickle\n",
    "file_name = 'wine_model.sav'\n",
    "wine_model = pickle.load(open(file_name,'rb'))"
   ]
  },
  {
   "cell_type": "code",
   "execution_count": 2,
   "metadata": {},
   "outputs": [],
   "source": [
    "#Predicting the result of a wine sample\n",
    "wine_report = [[1.214e+01, 2.890e+00, 1.970e+00, 1.740e+01, 1.110e+02, 2.900e+00,\n",
    "        2.740e+00, 2.586e-01, 3.210e+00, 4.980e+00, 0.930e+00, 2.770e+00,\n",
    "        2.058e+03]]\n",
    "wine_class = wine_model.predict(wine_report)"
   ]
  },
  {
   "cell_type": "code",
   "execution_count": 3,
   "metadata": {},
   "outputs": [
    {
     "name": "stdout",
     "output_type": "stream",
     "text": [
      "The wine belongs to class 0\n"
     ]
    }
   ],
   "source": [
    "#converting the result to readable format\n",
    "if wine_class[0]==0:\n",
    "    print(\"The wine belongs to class 0\")\n",
    "elif wine_class[0]==1:\n",
    "    print(\"The wine belongs to class 1\")\n",
    "else:\n",
    "    print(\"The wine belongs to class 2\")"
   ]
  }
 ],
 "metadata": {
  "kernelspec": {
   "display_name": "Python 3",
   "language": "python",
   "name": "python3"
  },
  "language_info": {
   "codemirror_mode": {
    "name": "ipython",
    "version": 3
   },
   "file_extension": ".py",
   "mimetype": "text/x-python",
   "name": "python",
   "nbconvert_exporter": "python",
   "pygments_lexer": "ipython3",
   "version": "3.5.0"
  }
 },
 "nbformat": 4,
 "nbformat_minor": 2
}
